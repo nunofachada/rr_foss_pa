{
 "cells": [
  {
   "cell_type": "code",
   "execution_count": 19,
   "metadata": {},
   "outputs": [],
   "source": [
    "import pandas as pd\n",
    "from wordcloud import WordCloud"
   ]
  },
  {
   "cell_type": "code",
   "execution_count": 20,
   "metadata": {},
   "outputs": [
    {
     "data": {
      "text/plain": [
       "0     gnss,raspberry pi,autonomous robot,seed planti...\n",
       "1         automation,arduino,air quality,iot,monitoring\n",
       "2     crop yield,low-cost, weed detection,herbicide ...\n",
       "3     low-cost,multispectral imaging,uas,embedded el...\n",
       "4        photogrammetry,phenotyping,uas,gis,orthomosaic\n",
       "5     automation, arduino,monitoring,raspberry pi,pl...\n",
       "6           arduino,iot,irrigation,water use,automation\n",
       "7     decision support,geostatistics,spatial analysi...\n",
       "8     uas,autonomous photography,faas,machine learni...\n",
       "9     automation,ordinary kriging,clustering analysi...\n",
       "10    iot,meteorological data,irrigation,water use,a...\n",
       "11    thermal imaging,uas,vegetation index,image pro...\n",
       "12    data-driven plant breeding,data processing,dat...\n",
       "13    object detection,crop spraying,energy-efficien...\n",
       "14    automation,geovisualization,time series,vegeta...\n",
       "15    spatial data,local analysis, map accuracy,outl...\n",
       "16    decision support,vegetation index,monitoring,m...\n",
       "17    monitoring,dairy cow,data processing,automatio...\n",
       "18    irrigation,distributed systems,meteorological ...\n",
       "19    deep learning,unmanned ground vehicles,monitor...\n",
       "20    gis,geoprocessing,spatial analysis,geocomputin...\n",
       "Name: Keywords, dtype: object"
      ]
     },
     "execution_count": 20,
     "metadata": {},
     "output_type": "execute_result"
    }
   ],
   "source": [
    "df = pd.read_csv(\"data_final.csv\", sep=\";\")\n",
    "\n",
    "df[\"Keywords\"]"
   ]
  },
  {
   "cell_type": "code",
   "execution_count": 21,
   "metadata": {},
   "outputs": [
    {
     "data": {
      "text/plain": [
       "<wordcloud.wordcloud.WordCloud at 0x7ffb86fc3ac0>"
      ]
     },
     "execution_count": 21,
     "metadata": {},
     "output_type": "execute_result"
    }
   ],
   "source": [
    "word_freq = {}\n",
    "\n",
    "for kws in df[\"Keywords\"]:\n",
    "    for kw in kws.split(\",\"):\n",
    "        word = kw.strip()\n",
    "        if word in word_freq:\n",
    "            word_freq[word] += 1\n",
    "        else:\n",
    "            word_freq[word] = 1\n",
    "\n",
    "wc = WordCloud(width=800, height=400, mode=\"RGBA\", background_color=None)\n",
    "wc.generate_from_frequencies(word_freq).to_file(\"wc2.png\")"
   ]
  }
 ],
 "metadata": {
  "kernelspec": {
   "display_name": "env",
   "language": "python",
   "name": "python3"
  },
  "language_info": {
   "codemirror_mode": {
    "name": "ipython",
    "version": 3
   },
   "file_extension": ".py",
   "mimetype": "text/x-python",
   "name": "python",
   "nbconvert_exporter": "python",
   "pygments_lexer": "ipython3",
   "version": "3.10.6"
  },
  "orig_nbformat": 4
 },
 "nbformat": 4,
 "nbformat_minor": 2
}
